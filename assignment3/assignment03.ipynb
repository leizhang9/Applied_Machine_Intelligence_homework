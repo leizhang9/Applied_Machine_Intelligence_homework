{
 "cells": [
  {
   "cell_type": "markdown",
   "id": "2fe6cb30-f39b-4124-a06c-5b0b91e88bf9",
   "metadata": {
    "deletable": false,
    "editable": false,
    "nbgrader": {
     "cell_type": "markdown",
     "checksum": "211a8408fe7be20964832b0e65415645",
     "grade": false,
     "grade_id": "cell-3d409e8aa8657466",
     "locked": true,
     "schema_version": 3,
     "solution": false,
     "task": false
    },
    "tags": []
   },
   "source": [
    "# Third assignment\n",
    "The assignment provides problems regarding basic applications of linear algebra and machine learning. Use this notebook to perform the computations and insert your comments into it. All the coding must be done in Python 3. \n",
    "\n",
    "The assignment has to be submitted individually!\n",
    "\n",
    "All your plots have to be labelled properly!  (Non-labeled plots will result in point deductions!)\n",
    "\n",
    "**Non running cells/tasks will not be considered!**\n",
    "\n",
    "The tasks/questions are 1.1), 1.2), 1.3), 1.4) 2.1), 2.2), 2.3), 2.4)*, 3.1.1), 3.1.2), 3.1.3), 3.2.1), 3.2.2), 3.2.3), 3.2.4), 3.3.1)*, 3.3.2)* and 3.4)*. After each task description there is an answer cell for your code or text. For coding tasks they look like this:\n",
    "\n",
    "```\n",
    "# YOUR CODE HERE\n",
    "```\n",
    "(You can delete the \"YOUR CODE HERE\" comment, if you like.)\n",
    "\n",
    "For markdown (text) cells the response cell will include this:\n",
    "\n",
    "**WRITE YOUR ANSWER HERE**\n",
    "\n",
    "Sometimes they are followed by test cells. You can run the test cells after you finished the task. If these cells don't show any errors, your answer is right. You can't/shouldn't edit test cells!\n",
    "\n",
    "After you finished the notebook you can hit the \"Validate\" button on the top of the notebook to see if all test are good. You can also use the \"Validate\" button on the \"Assignment\" tap on the main page of python.ldv.ei.tum.de. Some tasks will be graded manually (e.g. plots, text answers). They don't have a following test cell. \n",
    "\n",
    "Please make sure to hit the \"Submit\" button on the \"Assignment\" tab on the main page of python.ldv.ei.tum.de before the deadline passes. You will get your final score after the deadline.\n",
    "\n",
    "**Some tips:**\n",
    "- Only change cells with `# YOUR CODE HERE` or **WRITE YOUR ANSWER HERE**\n",
    "- Do not change cell types or the notebook name.\n",
    "- Do not add other .ipynb files into the ami22 folder or subfolders.\n",
    "- Do not override the original files in the ami22 folder or subfolders.\n",
    "- For every plot makes sure that axes are correctly labeled with original labels and not encoded ones. \n",
    "- If you are asked to provide multiple plots, make sure that the titles are clear. A plot should be self explanatory, we should not have to look at your code to know what is plotted. \n",
    "\n",
    "#### Date of submission: May 22th, 2022, 23:55 hrs"
   ]
  },
  {
   "cell_type": "code",
   "execution_count": 3,
   "id": "0557c708-4e7a-4777-b6d3-7236c1e42853",
   "metadata": {
    "deletable": false,
    "editable": false,
    "nbgrader": {
     "cell_type": "code",
     "checksum": "7642d70edd7f8e785b9bd589adb7166c",
     "grade": false,
     "grade_id": "cell-315e290a4ebdf43f",
     "locked": true,
     "schema_version": 3,
     "solution": false,
     "task": false
    },
    "tags": []
   },
   "outputs": [],
   "source": [
    "import numpy as np\n",
    "import tensorflow as tf\n",
    "from tensorflow.keras.applications.mobilenet_v2 import MobileNetV2, decode_predictions, preprocess_input\n",
    "from tensorflow.keras.preprocessing.image import img_to_array\n",
    "from PIL import Image\n",
    "import matplotlib.pyplot as plt\n",
    "import seaborn as sns\n",
    "from sklearn.metrics import confusion_matrix"
   ]
  },
  {
   "cell_type": "markdown",
   "id": "6b305f81-a325-4dfc-ac09-7cd2dbd3848e",
   "metadata": {
    "deletable": false,
    "editable": false,
    "nbgrader": {
     "cell_type": "markdown",
     "checksum": "37600f61ded0337fb175c2599aa6d67c",
     "grade": false,
     "grade_id": "cell-7bca0447a667a991",
     "locked": true,
     "schema_version": 3,
     "solution": false,
     "task": false
    },
    "tags": []
   },
   "source": [
    "624 2897 7844## Task 1 - Preprocessing Images\n",
    "Talking about Neural Networks and Deep Learning you will for sure stumble across the problem of networks requiring specific shapes for their image inputs. In this task we will have a look at the different approaches and how they affect the images.\n",
    "\n",
    "In this part of the notebook we will work with a pre-trained model. Due to storage and compute capabilites we will not use famous networks like ResNet50, but the light-weight MobileNetV2."
   ]
  },
  {
   "cell_type": "markdown",
   "id": "63ef9c66",
   "metadata": {
    "deletable": false,
    "editable": false,
    "nbgrader": {
     "cell_type": "markdown",
     "checksum": "52550a6633dd9e4f94abc343888aef59",
     "grade": false,
     "grade_id": "cell-036d5d967f40f426",
     "locked": true,
     "schema_version": 3,
     "solution": false,
     "task": false
    },
    "tags": []
   },
   "source": [
    "### Task 1.1\n",
    "\n",
    "Write a function `resize_to_224by224()` to change the shape of an image (represented as a tensorflow-tensor). The *MobileNetV2* requires input images with a size of $224 \\times 224$. Since not all images are square, there are several ways to resize a generally rectangular image to a square format. \n",
    "Implement the following methods:\n",
    "1. *Simple resize*, ignoring the aspect ratio: `mode='resize'`\n",
    "2. *Zero-padding*, maintaining the aspect ratio by zero padding: `mode='pad'` \n",
    "3. *Resize and central crop*, resizing maintaining the aspect ratio followed by cropping an square part of a non-square resized image: `mode='crop'`\n",
    "\n",
    "*Hint: You might use tensorflow functions.*\n",
    "\n",
    "[<img src=\"resize_demo.png\" width=\"700\"/>](resize_demo.png)"
   ]
  },
  {
   "cell_type": "code",
   "execution_count": null,
   "id": "f5c5cf4c",
   "metadata": {
    "deletable": false,
    "nbgrader": {
     "cell_type": "code",
     "checksum": "33216d53ba6e35ce85272f4b7219ad60",
     "grade": false,
     "grade_id": "cell-22287cbf484036c7",
     "locked": false,
     "schema_version": 3,
     "solution": true,
     "task": false
    },
    "tags": []
   },
   "outputs": [],
   "source": [
    "def resize_to_224by224(im_tf: tf.Tensor, mode: str) -> tf.Tensor:\n",
    "    # YOUR CODE HERE\n",
    "    return im_tf"
   ]
  },
  {
   "cell_type": "code",
   "execution_count": null,
   "id": "d59b49d1",
   "metadata": {
    "deletable": false,
    "editable": false,
    "nbgrader": {
     "cell_type": "code",
     "checksum": "fa7f00bf7df3531279e9c68c4ab4aedc",
     "grade": true,
     "grade_id": "cell-059730ebab678b03",
     "locked": true,
     "points": 1,
     "schema_version": 3,
     "solution": false,
     "task": false
    },
    "tags": []
   },
   "outputs": [],
   "source": []
  },
  {
   "cell_type": "code",
   "execution_count": null,
   "id": "d5604c15",
   "metadata": {
    "deletable": false,
    "editable": false,
    "nbgrader": {
     "cell_type": "code",
     "checksum": "03aef7541d8a353c08dc7ed598bbad27",
     "grade": true,
     "grade_id": "cell-5497c173f6ba76fd",
     "locked": true,
     "points": 1,
     "schema_version": 3,
     "solution": false,
     "task": false
    },
    "tags": []
   },
   "outputs": [],
   "source": []
  },
  {
   "cell_type": "code",
   "execution_count": null,
   "id": "c1b0b345",
   "metadata": {
    "deletable": false,
    "editable": false,
    "nbgrader": {
     "cell_type": "code",
     "checksum": "500502e2ae3fc4354c4200d29bf399b6",
     "grade": true,
     "grade_id": "cell-16db6323245de9de",
     "locked": true,
     "points": 1,
     "schema_version": 3,
     "solution": false,
     "task": false
    },
    "tags": []
   },
   "outputs": [],
   "source": []
  },
  {
   "cell_type": "markdown",
   "id": "85de6708",
   "metadata": {
    "deletable": false,
    "editable": false,
    "nbgrader": {
     "cell_type": "markdown",
     "checksum": "dd4649b66c943bf0d02d4e5701bc3ecd",
     "grade": false,
     "grade_id": "cell-33f5a20cdc8c28aa",
     "locked": true,
     "schema_version": 3,
     "solution": false,
     "task": false
    },
    "tags": []
   },
   "source": [
    "### Task 1.2\n",
    "\n",
    "Set up a `MobileNetV2()`-Keras model and assign it to the variable `mnv2`, pre-trained on the *ImageNet* dataset. "
   ]
  },
  {
   "cell_type": "code",
   "execution_count": null,
   "id": "0e2a2c94",
   "metadata": {
    "deletable": false,
    "nbgrader": {
     "cell_type": "code",
     "checksum": "1f7a5cf2615faa336ad629bfcf99ae5d",
     "grade": false,
     "grade_id": "cell-93d149fa7b00be8b",
     "locked": false,
     "schema_version": 3,
     "solution": true,
     "task": false
    },
    "tags": []
   },
   "outputs": [],
   "source": [
    "# YOUR CODE HERE"
   ]
  },
  {
   "cell_type": "code",
   "execution_count": null,
   "id": "e98ef826",
   "metadata": {
    "deletable": false,
    "editable": false,
    "nbgrader": {
     "cell_type": "code",
     "checksum": "14203fc99de5b1ef14a4ae907063c67f",
     "grade": true,
     "grade_id": "cell-067766344e58fee8",
     "locked": true,
     "points": 1,
     "schema_version": 3,
     "solution": false,
     "task": false
    },
    "tags": []
   },
   "outputs": [],
   "source": []
  },
  {
   "cell_type": "code",
   "execution_count": null,
   "id": "1b4c49b5",
   "metadata": {
    "deletable": false,
    "editable": false,
    "nbgrader": {
     "cell_type": "code",
     "checksum": "80efd3afee26517feae4dc201c0511ec",
     "grade": true,
     "grade_id": "cell-a43ba1285633d535",
     "locked": true,
     "points": 1,
     "schema_version": 3,
     "solution": false,
     "task": false
    },
    "tags": []
   },
   "outputs": [],
   "source": []
  },
  {
   "cell_type": "markdown",
   "id": "651bbf72",
   "metadata": {
    "deletable": false,
    "editable": false,
    "nbgrader": {
     "cell_type": "markdown",
     "checksum": "2fddaa8c2275ebada4267f2275857cf9",
     "grade": false,
     "grade_id": "cell-57c31ab16512ae51",
     "locked": true,
     "schema_version": 3,
     "solution": false,
     "task": false
    },
    "tags": []
   },
   "source": [
    "### Task 1.3\n",
    "\n",
    "Use the function `jpg_file_to_mobilenet()` (making use of your resize function from task 1.1) to load the provided images of a seakrait by inputing the filename and the resize mode. The function additionally uses the `preprocess_input()` method to further prepare the images for the network.\n",
    "Predict the output for each image and append the result to the list `preds`. Compute the top-3 softmax-output values and the 3 associated classes using Keras' applications `decode_predictions()` function. Append the output of the function to the list `outs`."
   ]
  },
  {
   "cell_type": "code",
   "execution_count": null,
   "id": "72200092",
   "metadata": {
    "deletable": false,
    "editable": false,
    "nbgrader": {
     "cell_type": "code",
     "checksum": "773b8d2cc27bb252f5f78749f19ff28f",
     "grade": false,
     "grade_id": "cell-a71fe6e6dd276cec",
     "locked": true,
     "schema_version": 3,
     "solution": false,
     "task": false
    },
    "tags": []
   },
   "outputs": [],
   "source": [
    "def jpg_file_to_mobilenet(filename: str = None, show: bool = True, mode: str = 'resize') -> tf.Tensor:\n",
    "    im_pil = Image.open(filename)\n",
    "    im_tf = img_to_array(im_pil).astype('uint8')  \n",
    "    im_tf = tf.convert_to_tensor(im_tf)\n",
    "    \n",
    "    im_tf_resized = resize_to_224by224(im_tf, mode)\n",
    "    \n",
    "    im_tf_mnet = preprocess_input(im_tf_resized)\n",
    "\n",
    "    if show:\n",
    "        f,a = plt.subplots(1, 3, figsize=(10, 5))\n",
    "        f.suptitle(f\"{filename} - {mode}\", y=.85)\n",
    "        \n",
    "        a[0].imshow(im_tf)\n",
    "        a[0].set_title('Original')\n",
    "\n",
    "        a[1].imshow(im_tf_resized/255)\n",
    "        a[1].set_title('Resized')\n",
    "        \n",
    "        a[2].imshow(im_tf_mnet*0.5 + 0.5)\n",
    "        a[2].set_title('MobileNetPreprocessing')\n",
    "        \n",
    "        f.tight_layout()\n",
    "        \n",
    "    im_tf = im_tf_mnet[None, ...]\n",
    "    \n",
    "    return im_tf"
   ]
  },
  {
   "cell_type": "code",
   "execution_count": null,
   "id": "12cb7b6b",
   "metadata": {
    "deletable": false,
    "nbgrader": {
     "cell_type": "code",
     "checksum": "f52fca8fef270d0f8bb348cc666c36de",
     "grade": false,
     "grade_id": "cell-f8538c56763fc9d7",
     "locked": false,
     "schema_version": 3,
     "solution": true,
     "task": false
    },
    "tags": []
   },
   "outputs": [],
   "source": [
    "filenames = ['seakrait.jpeg', 'seakrait2.jpeg', 'seakrait3.jpeg']\n",
    "modes = ['resize', 'pad', 'crop']\n",
    "\n",
    "preds = list()\n",
    "outs = list()\n",
    "\n",
    "for filename in filenames:\n",
    "    for mode in modes:\n",
    "        # YOUR CODE HERE\n",
    "\n",
    "print(*outs, sep='\\n')"
   ]
  },
  {
   "cell_type": "code",
   "execution_count": null,
   "id": "af99ecdd",
   "metadata": {
    "deletable": false,
    "editable": false,
    "nbgrader": {
     "cell_type": "code",
     "checksum": "74f708470c7bfe498997a85a15bc42f0",
     "grade": true,
     "grade_id": "cell-05e4b7668778f9a6",
     "locked": true,
     "points": 1,
     "schema_version": 3,
     "solution": false,
     "task": false
    },
    "tags": []
   },
   "outputs": [],
   "source": []
  },
  {
   "cell_type": "code",
   "execution_count": null,
   "id": "a1c394d6",
   "metadata": {
    "deletable": false,
    "editable": false,
    "nbgrader": {
     "cell_type": "code",
     "checksum": "9135a3a917184bd53018a69b366b4d18",
     "grade": true,
     "grade_id": "cell-7b187117bc6d1209",
     "locked": true,
     "points": 1,
     "schema_version": 3,
     "solution": false,
     "task": false
    },
    "tags": []
   },
   "outputs": [],
   "source": []
  },
  {
   "cell_type": "markdown",
   "id": "2cb674b6",
   "metadata": {
    "deletable": false,
    "editable": false,
    "nbgrader": {
     "cell_type": "markdown",
     "checksum": "bae56bb018c269c0886df82facd09353",
     "grade": false,
     "grade_id": "cell-e237c3f4192dbdf0",
     "locked": true,
     "schema_version": 3,
     "solution": false,
     "task": false
    },
    "tags": []
   },
   "source": [
    "### Task 1.4\n",
    "\n",
    "The black areas due to the zero padding can have an influence on the prediction. \n",
    "Which of the following padding methods might provide a more natural looking solution?\n",
    "\n",
    "'a': reflect: use the pixel intensities of the vector mirrored on the first and last values of the vector along each axis.\n",
    "    \n",
    "'b': median: use the median pixel intensities for padded pixels.\n",
    "    \n",
    "'c': edge/repeat: use the pixel intensities of the edge pixels for padded pixels.\n",
    "        \n",
    "'d': random: use uniformly distributed random values for the padded pixels.\n",
    "\n",
    "*Use a variable* `x14` *and assign your answer of the question (if 'e' would be the correct answer your code should look like this:* `x14='e'`. *There is only one correct answer.*"
   ]
  },
  {
   "cell_type": "code",
   "execution_count": null,
   "id": "f352d9e6",
   "metadata": {
    "deletable": false,
    "nbgrader": {
     "cell_type": "code",
     "checksum": "2be3095cbbb3051c6de0d6e4847fc696",
     "grade": false,
     "grade_id": "cell-90c4992677fe55e8",
     "locked": false,
     "schema_version": 3,
     "solution": true,
     "task": false
    },
    "tags": []
   },
   "outputs": [],
   "source": [
    "# YOUR CODE HERE\n",
    "print('The answer is ' + x14 + '.')"
   ]
  },
  {
   "cell_type": "code",
   "execution_count": null,
   "id": "f391fca6",
   "metadata": {
    "deletable": false,
    "editable": false,
    "nbgrader": {
     "cell_type": "code",
     "checksum": "7fe1786e8e1d520a0b5746345a32d1e6",
     "grade": true,
     "grade_id": "cell-482da609c76fdb85",
     "locked": true,
     "points": 1,
     "schema_version": 3,
     "solution": false,
     "task": false
    },
    "tags": []
   },
   "outputs": [],
   "source": []
  },
  {
   "cell_type": "markdown",
   "id": "7215d3b0-a76c-4592-aa21-b0cd2b74cc42",
   "metadata": {
    "deletable": false,
    "editable": false,
    "nbgrader": {
     "cell_type": "markdown",
     "checksum": "9c2d4037aff0cd065f3e681b89c087dd",
     "grade": false,
     "grade_id": "cell-fda07d2219a1ce53",
     "locked": true,
     "schema_version": 3,
     "solution": false,
     "task": false
    },
    "tags": []
   },
   "source": [
    "## Task 2 - Perturbations\n",
    "After having a glimpse on how resizing can affect the performance, we will now check out how slight perturbations can harm the accuracy."
   ]
  },
  {
   "cell_type": "markdown",
   "id": "40222e75",
   "metadata": {
    "deletable": false,
    "editable": false,
    "nbgrader": {
     "cell_type": "markdown",
     "checksum": "0656c6439dfeefd41bd5a3dbb34c8a23",
     "grade": false,
     "grade_id": "cell-f8bbaf662adfda45",
     "locked": true,
     "schema_version": 3,
     "solution": false,
     "task": false
    }
   },
   "source": [
    "### Task 2.1\n",
    "\n",
    "Using the code snippet below, load the three different images of a trike using the function `jpg_file_to_mobilenet()` with `mode='resize'`. Call the predict method of the pre-trained MobileNet Model `mnv2` and again, append the top-3 results of `decode_predictions()` to the variable `outs2`."
   ]
  },
  {
   "cell_type": "code",
   "execution_count": null,
   "id": "049884e1",
   "metadata": {
    "deletable": false,
    "nbgrader": {
     "cell_type": "code",
     "checksum": "408bd1a8a9cdd6ec2e5cc6518871daa2",
     "grade": false,
     "grade_id": "cell-e3b3ded6057e9a27",
     "locked": false,
     "schema_version": 3,
     "solution": true,
     "task": false
    },
    "tags": []
   },
   "outputs": [],
   "source": [
    "filenames = ['trike.jpg', 'trike_a5e-2.jpg', 'trike_n5e-2.jpg']\n",
    "\n",
    "outs2 = list()\n",
    "\n",
    "for filename in filenames:\n",
    "    # YOUR CODE HERE\n",
    "    \n",
    "print(*outs2, sep='\\n')"
   ]
  },
  {
   "cell_type": "code",
   "execution_count": null,
   "id": "11fea50f",
   "metadata": {
    "deletable": false,
    "editable": false,
    "nbgrader": {
     "cell_type": "code",
     "checksum": "5c230eb6c0ee04fc47896b52afdee072",
     "grade": true,
     "grade_id": "cell-1d7d0aa278184f3b",
     "locked": true,
     "points": 1,
     "schema_version": 3,
     "solution": false,
     "task": false
    },
    "tags": []
   },
   "outputs": [],
   "source": []
  },
  {
   "cell_type": "markdown",
   "id": "bf43a93a",
   "metadata": {
    "deletable": false,
    "editable": false,
    "nbgrader": {
     "cell_type": "markdown",
     "checksum": "02338e39250fb9453e21a2054a5f9c83",
     "grade": false,
     "grade_id": "cell-c4300cd1f0918ea4",
     "locked": true,
     "schema_version": 3,
     "solution": false,
     "task": false
    },
    "tags": []
   },
   "source": [
    "### Task 2.2\n",
    "\n",
    "The results of the above experiment should have made you wonder. Therefore, you should take a closer look at the disturbances in the image. Calculate the difference images `di1` by subtracting *trike_a5e-2.jpg* from *trike.jpg* and `di2` by subtracting *trike_n5e-2.jpg* from *trike.jpg*! Use the `jpg_file_to_mobilenet()` once again to read and resize the images before subtracting them (set `show=False` to not repeatedly show all the images)."
   ]
  },
  {
   "cell_type": "code",
   "execution_count": null,
   "id": "4d303434",
   "metadata": {
    "deletable": false,
    "nbgrader": {
     "cell_type": "code",
     "checksum": "2aeb6b956cd524aeff2c19fc3cf846b0",
     "grade": false,
     "grade_id": "cell-ba77272726ac7561",
     "locked": false,
     "schema_version": 3,
     "solution": true,
     "task": false
    },
    "tags": []
   },
   "outputs": [],
   "source": [
    "# YOUR CODE HERE\n",
    "\n",
    "fig, axs = plt.subplots(1, 2, figsize=(10,7))\n",
    "axs[0].imshow(di1[0,:,:,:]*.5+.5)\n",
    "axs[0].set_title('trike-trike_a5e-2')\n",
    "axs[1].imshow(di2[0,:,:,:]*.5+.5)\n",
    "axs[1].set_title('trike-trike_n5e-2')\n",
    "plt.show()"
   ]
  },
  {
   "cell_type": "code",
   "execution_count": null,
   "id": "41f9c4a7",
   "metadata": {
    "deletable": false,
    "editable": false,
    "nbgrader": {
     "cell_type": "code",
     "checksum": "3c557d65c167bf8b51cbb6551ef0f04b",
     "grade": true,
     "grade_id": "cell-3b32262ff1f34c58",
     "locked": true,
     "points": 1,
     "schema_version": 3,
     "solution": false,
     "task": false
    },
    "tags": []
   },
   "outputs": [],
   "source": []
  },
  {
   "cell_type": "code",
   "execution_count": null,
   "id": "1b74a945",
   "metadata": {
    "deletable": false,
    "editable": false,
    "nbgrader": {
     "cell_type": "code",
     "checksum": "2800dd41d18eb5c7ef4d0f9b99c62f2c",
     "grade": true,
     "grade_id": "cell-0a062665149ea897",
     "locked": true,
     "points": 1,
     "schema_version": 3,
     "solution": false,
     "task": false
    },
    "tags": []
   },
   "outputs": [],
   "source": []
  },
  {
   "cell_type": "markdown",
   "id": "87120f38",
   "metadata": {
    "deletable": false,
    "editable": false,
    "nbgrader": {
     "cell_type": "markdown",
     "checksum": "3c56840aaba700cf4555a21ec265c475",
     "grade": false,
     "grade_id": "cell-74b65e20408b901c",
     "locked": true,
     "schema_version": 3,
     "solution": false,
     "task": false
    },
    "tags": []
   },
   "source": [
    "### Task 2.3\n",
    "\n",
    "Calculate for both difference images independently the mean for each color channel and store the three values in `m1` and `m2`, respectively. Further, calculate the standard deviation per color channel and store it in `s1` and `s2`. And last but not least the sum of the squares per channel `ssq1` and `ssq2`. "
   ]
  },
  {
   "cell_type": "code",
   "execution_count": null,
   "id": "7191a981",
   "metadata": {
    "deletable": false,
    "nbgrader": {
     "cell_type": "code",
     "checksum": "ad3f33782e26722b196b6b15bcabf27e",
     "grade": false,
     "grade_id": "cell-471eeeeb10d00a11",
     "locked": false,
     "schema_version": 3,
     "solution": true,
     "task": false
    },
    "tags": []
   },
   "outputs": [],
   "source": [
    "# YOUR CODE HERE\n",
    "\n",
    "print(f\"Difference Image 1: \\n mean: {m1} \\n sd: {s1} \\n ssq: {ssq1}\")\n",
    "print('---')\n",
    "print(f\"Difference Image 2: \\n mean: {m2} \\n sd: {s2} \\n ssq: {ssq2}\")"
   ]
  },
  {
   "cell_type": "code",
   "execution_count": null,
   "id": "5dc64e4a",
   "metadata": {
    "deletable": false,
    "editable": false,
    "nbgrader": {
     "cell_type": "code",
     "checksum": "c0d1a4e228a218e280ca4d35bf922d60",
     "grade": true,
     "grade_id": "cell-e9eab3a71cb66f64",
     "locked": true,
     "points": 1,
     "schema_version": 3,
     "solution": false,
     "task": false
    },
    "tags": []
   },
   "outputs": [],
   "source": []
  },
  {
   "cell_type": "code",
   "execution_count": null,
   "id": "1fe6c471",
   "metadata": {
    "deletable": false,
    "editable": false,
    "nbgrader": {
     "cell_type": "code",
     "checksum": "b797fedce7f34af2c3e963ad827f0eb8",
     "grade": true,
     "grade_id": "cell-90fbbd3d80c1fbcc",
     "locked": true,
     "points": 1,
     "schema_version": 3,
     "solution": false,
     "task": false
    },
    "tags": []
   },
   "outputs": [],
   "source": []
  },
  {
   "cell_type": "code",
   "execution_count": null,
   "id": "a1322507",
   "metadata": {
    "deletable": false,
    "editable": false,
    "nbgrader": {
     "cell_type": "code",
     "checksum": "366f38cc03c8e86dc21a8e874b032f34",
     "grade": true,
     "grade_id": "cell-15ffdbb4ab2c8adb",
     "locked": true,
     "points": 1,
     "schema_version": 3,
     "solution": false,
     "task": false
    },
    "tags": []
   },
   "outputs": [],
   "source": []
  },
  {
   "cell_type": "markdown",
   "id": "f2da052b",
   "metadata": {
    "deletable": false,
    "editable": false,
    "nbgrader": {
     "cell_type": "markdown",
     "checksum": "c20adc32969efa54d778f19b50572a5f",
     "grade": false,
     "grade_id": "cell-5923faeb09dfad67",
     "locked": true,
     "schema_version": 3,
     "solution": false,
     "task": false
    },
    "tags": []
   },
   "source": [
    "### Task 2.4* (Bonus)\n",
    "\n",
    "\n",
    "Which of the following statements is true?\n",
    "\n",
    "'a': The pertubations in *trike_a5e-2.jpg* and *trike_n5e-2.jpg* are just random noise.\n",
    "\n",
    "'b': The pertubations in *trike_a5e-2.jpg* are random noise, but the pertubations in *trike_n5e-2.jpg* are depending on *trike.jpg* and the pre-trained *MobileNetV2*.\n",
    "\n",
    "'c': The pertubations in *trike_a5e-2.jpg* are depending on *trike.jpg* and the pre-trained *MobileNetV2*, but the pertubations in *trike_n5e-2.jpg* are random noise.\n",
    "\n",
    "'d': The pertubations in *trike_a5e-2.jpg*  and in *trike_n5e-2.jpg* are depending on *trike.jpg* and the pre-trained *MobileNetV2*.\n",
    "\n",
    "*Use a variable* `x24` *and assign your answer of the question (if 'e' would be the correct answer your code should look like this:* `x24='e'`. *There is only one correct answer.*"
   ]
  },
  {
   "cell_type": "code",
   "execution_count": null,
   "id": "06249a97",
   "metadata": {
    "deletable": false,
    "nbgrader": {
     "cell_type": "code",
     "checksum": "8e639ba0a75924ff08cbee131dd36867",
     "grade": false,
     "grade_id": "cell-0678c8edea157585",
     "locked": false,
     "schema_version": 3,
     "solution": true,
     "task": false
    },
    "tags": []
   },
   "outputs": [],
   "source": [
    "# YOUR CODE HERE\n",
    "print('The answer is ' + x24 + '.')"
   ]
  },
  {
   "cell_type": "code",
   "execution_count": null,
   "id": "262397c0",
   "metadata": {
    "deletable": false,
    "editable": false,
    "nbgrader": {
     "cell_type": "code",
     "checksum": "07df1bc36df3a0fbc35d99216457f852",
     "grade": true,
     "grade_id": "cell-107d3ff476a48051",
     "locked": true,
     "points": 1,
     "schema_version": 3,
     "solution": false,
     "task": false
    },
    "tags": []
   },
   "outputs": [],
   "source": []
  },
  {
   "cell_type": "markdown",
   "id": "2c293bd0-0efc-46f9-82d0-1036421023fb",
   "metadata": {
    "deletable": false,
    "editable": false,
    "nbgrader": {
     "cell_type": "markdown",
     "checksum": "925e5c8ec5b5c488c68770d8491a25a9",
     "grade": false,
     "grade_id": "cell-2704b7df5613548a",
     "locked": true,
     "schema_version": 3,
     "solution": false,
     "task": false
    }
   },
   "source": [
    "## Task 3 - Transfer Learning\n",
    "You want build a convolutional neural network that can predict the house numbers on street view images (http://ufldl.stanford.edu/housenumbers/). \n",
    "\n",
    "[<img src=\"svhn.png\" width=\"700\"/>](svhn.png)\n",
    "\n",
    "Unfortunately, you have only 5000 images for training, and you are afraid this will yield a crappy model. Thus, you decide to use transfer learning, to make the most out of your training data.\n",
    "\n",
    "As the hardware is limited, we provide you with to already pre-trained models, but you are not sure which one will perform better:\n",
    "- pre-trained on Cifar10 (https://www.cs.toronto.edu/~kriz/cifar.html)\n",
    "\n",
    "[<img src=\"cifar.png\" width=\"700\"/>](cifar.png)\n",
    "\n",
    "- pre-trained on MNIST (http://yann.lecun.com/exdb/mnist/)\n",
    "\n",
    "[<img src=\"mnist.png\" width=\"700\"/>](mnist.png)\n",
    "\n",
    "Therefore, you will try both of them."
   ]
  },
  {
   "cell_type": "code",
   "execution_count": null,
   "id": "96b08d0b-7a71-49d2-9e83-8ea4b7843b6f",
   "metadata": {
    "deletable": false,
    "editable": false,
    "nbgrader": {
     "cell_type": "code",
     "checksum": "e8a5531a7ad92e522081c00b32fb3ed9",
     "grade": false,
     "grade_id": "cell-7a584ecfe30e3f70",
     "locked": true,
     "schema_version": 3,
     "solution": false,
     "task": false
    },
    "tags": []
   },
   "outputs": [],
   "source": [
    "import numpy as np\n",
    "import tensorflow as tf\n",
    "from tensorflow.keras.callbacks import EarlyStopping, ModelCheckpoint\n",
    "from tensorflow.keras import utils, layers, models\n",
    "import tensorflow_datasets as tfds\n",
    "from tensorflow.python.ops.numpy_ops import np_config\n",
    "np_config.enable_numpy_behavior()"
   ]
  },
  {
   "cell_type": "code",
   "execution_count": null,
   "id": "7d4c1270-c92b-4589-a1b1-5841358b0eab",
   "metadata": {
    "deletable": false,
    "editable": false,
    "nbgrader": {
     "cell_type": "code",
     "checksum": "f5d7be5557b28ab3f7d909632cfaa2c2",
     "grade": false,
     "grade_id": "cell-a0358f4f4e7317ca",
     "locked": true,
     "schema_version": 3,
     "solution": false,
     "task": false
    },
    "tags": []
   },
   "outputs": [],
   "source": [
    "# early stopping callback, to stop training once the model isn't improving anymore\n",
    "es = EarlyStopping(monitor='val_loss', mode='min', verbose=1, patience=3, restore_best_weights=True)\n",
    "\n",
    "# function for plotting model history \n",
    "def plot_model_history(history, ax=None, metric='loss', ep_start=1, ep_stop=None,monitor='val_loss', mode='min',plttitle=None):\n",
    "    if ax is None:\n",
    "        fig,ax = plt.subplots()\n",
    "    if ep_stop is None:\n",
    "        ep_stop = len(history.epoch)\n",
    "    if plttitle is None:\n",
    "        plttitle = metric[0].swapcase() + metric[1:]\n",
    "    ax.plot(np.arange(ep_start,ep_stop+1, dtype='int'),history.history[metric][ep_start-1:ep_stop])\n",
    "    ax.plot(np.arange(ep_start,ep_stop+1, dtype='int'),history.history['val_' + metric][ep_start-1:ep_stop])\n",
    "    if metric == 'loss':\n",
    "        if mode == 'min':\n",
    "            idx = np.argmin(history.history['val_' + metric][ep_start-1:ep_stop])\n",
    "        if mode == 'max':\n",
    "            idx = np.argmax(history.history['val_' + metric][ep_start-1:ep_stop])\n",
    "        ax.plot(idx+1, history.history['val_' + metric][idx], 'o', color=ax.get_lines()[1].get_color())\n",
    "    ax.set(title=plttitle)\n",
    "    ax.set(ylabel=metric[0].swapcase() + metric[1:])\n",
    "    ax.set(xlabel='Epoch')\n",
    "    ax.legend(['train', 'val'], loc='upper right')\n",
    "\n",
    "def plot_cm(y_true, y_pred, classlabels=None,ax=None, xlabel='predicted class',ylabel='actual class',cmtitle='Confusion Matrix'):\n",
    "    if ax is None:\n",
    "        fig,ax = plt.subplots()\n",
    "    conf = confusion_matrix(y_true, y_pred)\n",
    "    sns.heatmap(conf, annot=True, fmt=\"d\",cmap=sns.color_palette(\"Blues\"),ax=ax)\n",
    "    if classlabels is not None:\n",
    "        ax.set(xticklabels=classlabels)\n",
    "        ax.set(yticklabels=classlabels)\n",
    "    ax.set(xlabel=xlabel)\n",
    "    ax.set(ylabel=ylabel)\n",
    "    ax.set(title=cmtitle)"
   ]
  },
  {
   "cell_type": "code",
   "execution_count": null,
   "id": "820d6ddd-437b-4df0-9d18-448f1b879173",
   "metadata": {
    "deletable": false,
    "editable": false,
    "nbgrader": {
     "cell_type": "code",
     "checksum": "97cb9e882de4feb5a6d0ac4c59bf8ca3",
     "grade": false,
     "grade_id": "cell-4c28a1b4c3307068",
     "locked": true,
     "schema_version": 3,
     "solution": false,
     "task": false
    },
    "tags": []
   },
   "outputs": [],
   "source": [
    "#load svhn\n",
    "X_test_svhn, y_test_svhn = tfds.load(\"svhn_cropped\", batch_size=-1, split=\"test\", as_supervised=True)\n",
    "train_data = np.load('svhn_data.npz')\n",
    "X_train_svhn = tf.convert_to_tensor(train_data['X_train_svhn'])\n",
    "y_train_svhn = tf.convert_to_tensor(train_data['y_train_svhn'])"
   ]
  },
  {
   "cell_type": "markdown",
   "id": "6c21b8c1-74a3-4ad8-9b33-dc43c7589dc5",
   "metadata": {
    "deletable": false,
    "editable": false,
    "nbgrader": {
     "cell_type": "markdown",
     "checksum": "0aae6d54b0c381eb179a90ecef1957c3",
     "grade": false,
     "grade_id": "cell-04742010ef169e48",
     "locked": true,
     "schema_version": 3,
     "solution": false,
     "task": false
    }
   },
   "source": [
    "## 3.1 Model pre-trained on Cifar10\n",
    "We used the following code to train the model:\n",
    "\n",
    "---\n",
    "\n",
    "```python\n",
    "X_train_cifar, y_train_cifar = tfds.load(\"cifar10\", batch_size=-1, split=\"train\", as_supervised=True)\n",
    "\n",
    "m_save_cifar = ModelCheckpoint('cifar_pretrained.hdf5', save_best_only=True, monitor='val_loss', mode='min')\n",
    "\n",
    "base_cifar = models.Sequential(\n",
    "   [\n",
    "       layers.Conv2D(32, (5, 5), activation='relu', input_shape=(32, 32, 3)),\n",
    "       layers.MaxPooling2D((2, 2)),\n",
    "       layers.BatchNormalization(),\n",
    "       layers.Conv2D(64, (3, 3), activation='relu'),\n",
    "       layers.MaxPooling2D((2, 2)),\n",
    "       layers.BatchNormalization(),\n",
    "       layers.Conv2D(64, (3, 3), activation='relu')\n",
    "   ],\n",
    "   name = 'base_cifar'\n",
    ")\n",
    "\n",
    "head_cifar = models.Sequential(\n",
    "   [\n",
    "      layers.Flatten(),\n",
    "      layers.Dense(64, activation='relu'),\n",
    "       layers.Dense(10)\n",
    "   ],\n",
    "   name = 'head_cifar'\n",
    ")\n",
    "\n",
    "model_cifar = models.Sequential(\n",
    "   [\n",
    "       base_cifar,\n",
    "       head_cifar\n",
    "   ]\n",
    ")\n",
    "\n",
    "model_cifar.compile(optimizer='adam', loss=tf.keras.losses.SparseCategoricalCrossentropy(from_logits=True), metrics=['accuracy'])\n",
    "model_cifar.summary()\n",
    "\n",
    "history_cifar = model_cifar.fit(X_train_cifar, y_train_cifar, epochs=20, validation_split=0.2, callbacks=[es, m_save_cifar])\n",
    "```\n",
    "\n",
    "---\n"
   ]
  },
  {
   "cell_type": "markdown",
   "id": "330fe9e9-1ede-4063-b3c7-c19b228e04f1",
   "metadata": {
    "deletable": false,
    "editable": false,
    "nbgrader": {
     "cell_type": "markdown",
     "checksum": "9bde3f2ea73f241948c93b208d12fc1d",
     "grade": false,
     "grade_id": "cell-2692d7450fe5ea6f",
     "locked": true,
     "schema_version": 3,
     "solution": false,
     "task": false
    },
    "tags": []
   },
   "source": [
    "### Task 3.1.1\n",
    "Load the pre-trained model `cifar_pretrained.hdf5` and store it in the variable `model_cifar`. To check if the model is loaded correctly, evaluate it on the test data `X_test_cifar` and `y_test_cifar`. Store the loss in `test_loss_cifar` and the accuracy in `test_acc_cifar`."
   ]
  },
  {
   "cell_type": "code",
   "execution_count": null,
   "id": "96d14069-4b55-4cc2-8f94-4af43b008973",
   "metadata": {
    "deletable": false,
    "nbgrader": {
     "cell_type": "code",
     "checksum": "b95c89b545ccbcd78a6f515b3d80a925",
     "grade": false,
     "grade_id": "cell-cf44fa591d702564",
     "locked": false,
     "schema_version": 3,
     "solution": true,
     "task": false
    },
    "tags": []
   },
   "outputs": [],
   "source": [
    "X_test_cifar, y_test_cifar = tfds.load(\"cifar10\", batch_size=-1, split=\"test\", as_supervised=True)\n",
    "\n",
    "# YOUR CODE HERE"
   ]
  },
  {
   "cell_type": "code",
   "execution_count": null,
   "id": "120764ea-b30f-4e43-80a5-9f033bb91b91",
   "metadata": {
    "deletable": false,
    "editable": false,
    "nbgrader": {
     "cell_type": "code",
     "checksum": "2af123d4ff58612c189d70aeaf2e6564",
     "grade": true,
     "grade_id": "cell-00b950cf60aa3caa",
     "locked": true,
     "points": 1,
     "schema_version": 3,
     "solution": false,
     "task": false
    },
    "tags": []
   },
   "outputs": [],
   "source": []
  },
  {
   "cell_type": "code",
   "execution_count": null,
   "id": "9c4ef4d5-f91d-4c47-99ed-e8e0cde3d3bd",
   "metadata": {
    "deletable": false,
    "editable": false,
    "nbgrader": {
     "cell_type": "code",
     "checksum": "c51988d8c247d06c2c5d3a7e748af646",
     "grade": true,
     "grade_id": "cell-9a59077eb38d60fc",
     "locked": true,
     "points": 1,
     "schema_version": 3,
     "solution": false,
     "task": false
    },
    "tags": []
   },
   "outputs": [],
   "source": []
  },
  {
   "cell_type": "markdown",
   "id": "07ecc9cc-f821-44ca-a2fe-455b9fd56d7a",
   "metadata": {
    "deletable": false,
    "editable": false,
    "nbgrader": {
     "cell_type": "markdown",
     "checksum": "2e47885d22250409f084f49a2066ca43",
     "grade": false,
     "grade_id": "cell-1ef571f54f8a0b64",
     "locked": true,
     "schema_version": 3,
     "solution": false,
     "task": false
    },
    "tags": []
   },
   "source": [
    "### Task 3.1.2\n",
    "Now that we have loaded the model pre-trained on cifar data, we can use it for transfer learning. \n",
    "\n",
    "For this purpose, we will keep the base `base_cifar`, you can access it from the `model_cifar` using the `get_layer()` method. For transfer learning, we have to freeze its weights, this can be done by settings trainable parameter to `False`. To adopt to the new domain, build a new head `head_svhn_c`. It should have the same architecture as the `head_cifar`. Using `base_cifar` and `head_svhn_c`, build and compile the new model and assign it to the variable `model_svhn_c`.\n",
    "\n",
    "In the last step, compile the model using the _adam_ optimizer, the _SparseCategoricalCrossentropy_ Loss with the parameter _from_logits_ set to True, and accuracy as metric. "
   ]
  },
  {
   "cell_type": "code",
   "execution_count": null,
   "id": "4983b34c-8f36-440c-abbd-b31bcc92989f",
   "metadata": {
    "deletable": false,
    "nbgrader": {
     "cell_type": "code",
     "checksum": "2cf8079f00cd952914132f182f6d7250",
     "grade": false,
     "grade_id": "cell-40602d8fbb6610a2",
     "locked": false,
     "schema_version": 3,
     "solution": true,
     "task": false
    },
    "tags": []
   },
   "outputs": [],
   "source": [
    "# YOUR CODE HERE\n",
    "\n",
    "model_svhn_c.summary()"
   ]
  },
  {
   "cell_type": "code",
   "execution_count": null,
   "id": "ccb9a457-d2a5-4012-8717-0bf794e71d0c",
   "metadata": {
    "deletable": false,
    "editable": false,
    "nbgrader": {
     "cell_type": "code",
     "checksum": "b13ce4b14e5d15e975cce370a505153f",
     "grade": true,
     "grade_id": "cell-d0146c3a044cfd77",
     "locked": true,
     "points": 1,
     "schema_version": 3,
     "solution": false,
     "task": false
    },
    "tags": []
   },
   "outputs": [],
   "source": []
  },
  {
   "cell_type": "code",
   "execution_count": null,
   "id": "04e00d86-666d-457b-b767-525a3ae88c8d",
   "metadata": {
    "deletable": false,
    "editable": false,
    "nbgrader": {
     "cell_type": "code",
     "checksum": "db0b161ac6ccca806cc486095b0ffc1f",
     "grade": true,
     "grade_id": "cell-7ed37b597bbfc291",
     "locked": true,
     "points": 1,
     "schema_version": 3,
     "solution": false,
     "task": false
    },
    "tags": []
   },
   "outputs": [],
   "source": []
  },
  {
   "cell_type": "markdown",
   "id": "96fefa2a-6b0d-4c3d-bac2-451907b26e9d",
   "metadata": {
    "deletable": false,
    "editable": false,
    "nbgrader": {
     "cell_type": "markdown",
     "checksum": "19217fa3fefb15b7638f00033036423c",
     "grade": false,
     "grade_id": "cell-fc67df18444fb564",
     "locked": true,
     "schema_version": 3,
     "solution": false,
     "task": false
    },
    "tags": []
   },
   "source": [
    "### Task 3.1.3\n",
    "Fit the model on `X_train_svhn` and `y_train_svhn` for (max.) 30 epochs. Use a validation split of 0.2 and the early stopping callback `es`. Store the training history in the variable `history_svhn_c`.\n",
    "\n",
    "After training, evaluate the model on the test data `X_test_svhn` and `y_test_svhn`. Store the loss in `test_loss_svhn_c` and the accuracy in `test_acc_svhn_c`."
   ]
  },
  {
   "cell_type": "code",
   "execution_count": null,
   "id": "7bbef3b5-0109-417e-af94-a08ea93555ef",
   "metadata": {
    "deletable": false,
    "nbgrader": {
     "cell_type": "code",
     "checksum": "36fc92ce1bae1d29c20f21637748b561",
     "grade": false,
     "grade_id": "cell-beea2fbcd37dcf6e",
     "locked": false,
     "schema_version": 3,
     "solution": true,
     "task": false
    },
    "tags": []
   },
   "outputs": [],
   "source": [
    "# YOUR CODE HERE\n",
    "\n",
    "fig, ax = plt.subplots(2,2,figsize=(10,8))\n",
    "plot_model_history(history_svhn_c, ax=ax[0,0])\n",
    "plot_model_history(history_svhn_c, metric='accuracy',ax=ax[0,1])\n",
    "plot_cm(y_train_svhn, np.argmax(model_svhn_c.predict(X_train_svhn),axis=1), cmtitle='Train', ax=ax[1,0])\n",
    "plot_cm(y_test_svhn, np.argmax(model_svhn_c.predict(X_test_svhn),axis=1), cmtitle='Test', ax=ax[1,1])\n",
    "fig.tight_layout()"
   ]
  },
  {
   "cell_type": "code",
   "execution_count": null,
   "id": "20444e4c-0d83-48a8-a8d8-5f300dec1361",
   "metadata": {
    "deletable": false,
    "editable": false,
    "nbgrader": {
     "cell_type": "code",
     "checksum": "0538e04f41e4915a28225a289d8b0ede",
     "grade": true,
     "grade_id": "cell-5f9a16965ba4d3ab",
     "locked": true,
     "points": 1,
     "schema_version": 3,
     "solution": false,
     "task": false
    },
    "tags": []
   },
   "outputs": [],
   "source": []
  },
  {
   "cell_type": "code",
   "execution_count": null,
   "id": "b954d144-206d-4d9c-9745-1ae136a3a710",
   "metadata": {
    "deletable": false,
    "editable": false,
    "nbgrader": {
     "cell_type": "code",
     "checksum": "3bf790a7faa603c289e7eb9ea66c238c",
     "grade": true,
     "grade_id": "cell-38fba4820362a802",
     "locked": true,
     "points": 1,
     "schema_version": 3,
     "solution": false,
     "task": false
    },
    "tags": []
   },
   "outputs": [],
   "source": []
  },
  {
   "cell_type": "markdown",
   "id": "9ebdfd3b-dfdc-4b3a-baaa-f401223fd614",
   "metadata": {
    "deletable": false,
    "editable": false,
    "nbgrader": {
     "cell_type": "markdown",
     "checksum": "e67045e6106ee873b737b542f5f60f80",
     "grade": false,
     "grade_id": "cell-eb846abd604c2aa4",
     "locked": true,
     "schema_version": 3,
     "solution": false,
     "task": false
    }
   },
   "source": [
    "## 3.2 Model pre-trained on MNIST\n",
    "We used the following code to train the model:\n",
    "\n",
    "---\n",
    "\n",
    "```python\n",
    "X_train_mnist, y_train_mnist = tfds.load(\"mnist\", batch_size=-1, split=\"train\", as_supervised=True)\n",
    "\n",
    "m_save_mnist = ModelCheckpoint('mnist_pretrained.hdf5', save_best_only=True, monitor='val_loss', mode='min')\n",
    "\n",
    "base_mnist = models.Sequential(\n",
    "   [\n",
    "       layers.Conv2D(32, (5, 5), activation='relu', input_shape=(28, 28, 1)),\n",
    "       layers.MaxPooling2D((2, 2)),\n",
    "       layers.BatchNormalization(),\n",
    "       layers.Conv2D(64, (3, 3), activation='relu'),\n",
    "       layers.MaxPooling2D((2, 2)),\n",
    "       layers.BatchNormalization(),\n",
    "       layers.Conv2D(64, (3, 3), activation='relu')\n",
    "   ],\n",
    "   name='base_mnist'\n",
    ")\n",
    "\n",
    "head_mnist = models.Sequential(\n",
    "   [\n",
    "       layers.Flatten(),\n",
    "       layers.Dense(64, activation='relu'),\n",
    "       layers.Dense(10)\n",
    "   ],\n",
    "   name='head_mnist'\n",
    ")\n",
    "\n",
    "model_mnist = models.Sequential(\n",
    "   [\n",
    "       base_mnist,\n",
    "       head_mnist\n",
    "   ]\n",
    ")\n",
    "\n",
    "model_mnist.compile(optimizer='adam', loss=tf.keras.losses.SparseCategoricalCrossentropy(from_logits=True), metrics=['accuracy'])\n",
    "model_mnist.summary()\n",
    "\n",
    "history_mnist = model_mnist.fit(X_train_mnist, y_train_mnist, epochs=20, validation_split=0.2, callbacks=[es, m_save_mnist])\n",
    "\n",
    "```\n",
    "\n",
    "---"
   ]
  },
  {
   "cell_type": "markdown",
   "id": "eeaf25b9-ba85-4fbf-b7d4-465ce747750f",
   "metadata": {
    "deletable": false,
    "editable": false,
    "nbgrader": {
     "cell_type": "markdown",
     "checksum": "fb282fec128725e52f1555fac0b81129",
     "grade": false,
     "grade_id": "cell-8840a6da0e8cbe2f",
     "locked": true,
     "schema_version": 3,
     "solution": false,
     "task": false
    }
   },
   "source": [
    "### Task 3.2.1\n",
    "Load the pre-trained model `mnist_pretrained.hdf5` and store it in the variable `model_mnist`. To check if the model is loaded correctly, evaluate it on the test data `X_test_cifar` and `y_test_mnist`. Store the loss in `test_loss_mnist` and the accuracy in `test_acc_mnist`."
   ]
  },
  {
   "cell_type": "code",
   "execution_count": null,
   "id": "5bd32a38-16a8-4468-a76d-f99e2ac90fad",
   "metadata": {
    "deletable": false,
    "nbgrader": {
     "cell_type": "code",
     "checksum": "effde1efcf88c0187050f84c7b79e126",
     "grade": false,
     "grade_id": "cell-13adcb23e89cccc4",
     "locked": false,
     "schema_version": 3,
     "solution": true,
     "task": false
    },
    "tags": []
   },
   "outputs": [],
   "source": [
    "X_test_mnist, y_test_mnist = tfds.load(\"mnist\", batch_size=-1, split=\"test\", as_supervised=True)\n",
    "\n",
    "# YOUR CODE HERE"
   ]
  },
  {
   "cell_type": "code",
   "execution_count": null,
   "id": "33c14ee3-de25-4ce7-bf5a-5265a66095cd",
   "metadata": {
    "deletable": false,
    "editable": false,
    "nbgrader": {
     "cell_type": "code",
     "checksum": "8d54b3ef8c5d565d698ca0319481a083",
     "grade": true,
     "grade_id": "cell-b622b9405be8f6fd",
     "locked": true,
     "points": 0,
     "schema_version": 3,
     "solution": false,
     "task": false
    },
    "tags": []
   },
   "outputs": [],
   "source": []
  },
  {
   "cell_type": "code",
   "execution_count": null,
   "id": "81556555-af4a-4923-8ede-dcf553972641",
   "metadata": {
    "deletable": false,
    "editable": false,
    "nbgrader": {
     "cell_type": "code",
     "checksum": "085eafa332794be01f248188695c67bc",
     "grade": true,
     "grade_id": "cell-ae1e5e633f14ba6f",
     "locked": true,
     "points": 0,
     "schema_version": 3,
     "solution": false,
     "task": false
    },
    "tags": []
   },
   "outputs": [],
   "source": []
  },
  {
   "cell_type": "markdown",
   "id": "59416835-f13f-44b1-ac9d-bcd82b7979b0",
   "metadata": {
    "deletable": false,
    "editable": false,
    "nbgrader": {
     "cell_type": "markdown",
     "checksum": "ef2c4001e9f852637256b50f1d52b9a3",
     "grade": false,
     "grade_id": "cell-6604628cc87c1f60",
     "locked": true,
     "schema_version": 3,
     "solution": false,
     "task": false
    },
    "tags": []
   },
   "source": [
    "### Task 3.2.2\n",
    "Now that we have loaded the model pre-trained on mnist data, we can use it for transfer learning. \n",
    "\n",
    "For this purpose, we will keep the base `base_mnist`, you can access it from the `model_mnist` using the `get_layer()` method. For transfer learning, we have to freeze its weights, this can be done by settings trainable parameter to `False`. To adopt to the new domain, build a new head `head_svhn_m`. It should have the same architecture as the `head_mnist`. Using `base_mnist` and `head_svhn_m`, build the new model and assign it to the variable `model_svhn_m`.\n",
    "\n",
    "In the last step, compile the model using the _adam_ optimizer, the _SparseCategoricalCrossentropy_ Loss with the parameter _from_logits_ set to True, and accuracy as metric. "
   ]
  },
  {
   "cell_type": "code",
   "execution_count": null,
   "id": "04d86990-1add-4378-bec1-8e24ca22acbb",
   "metadata": {
    "deletable": false,
    "nbgrader": {
     "cell_type": "code",
     "checksum": "70019d89b24ebefddf5243607682eb33",
     "grade": false,
     "grade_id": "cell-99479b208f0f2f98",
     "locked": false,
     "schema_version": 3,
     "solution": true,
     "task": false
    },
    "tags": []
   },
   "outputs": [],
   "source": [
    "# YOUR CODE HERE\n",
    "\n",
    "model_svhn_m.summary()"
   ]
  },
  {
   "cell_type": "code",
   "execution_count": null,
   "id": "2388e1f4-cae9-485d-b299-8bfc4c7b28f7",
   "metadata": {
    "deletable": false,
    "editable": false,
    "nbgrader": {
     "cell_type": "code",
     "checksum": "8283f572efecfd58fa578e10d3914099",
     "grade": true,
     "grade_id": "cell-a23a565ff6f07290",
     "locked": true,
     "points": 1,
     "schema_version": 3,
     "solution": false,
     "task": false
    },
    "tags": []
   },
   "outputs": [],
   "source": []
  },
  {
   "cell_type": "code",
   "execution_count": null,
   "id": "a19176e1-9616-48f7-9dbd-db2996c89cfc",
   "metadata": {
    "deletable": false,
    "editable": false,
    "nbgrader": {
     "cell_type": "code",
     "checksum": "7b9ed499359dca390f789e165eb11948",
     "grade": true,
     "grade_id": "cell-a4734873ba19736c",
     "locked": true,
     "points": 1,
     "schema_version": 3,
     "solution": false,
     "task": false
    },
    "tags": []
   },
   "outputs": [],
   "source": []
  },
  {
   "cell_type": "markdown",
   "id": "1296c046-cfb3-4935-89ef-3374875d752b",
   "metadata": {
    "deletable": false,
    "editable": false,
    "nbgrader": {
     "cell_type": "markdown",
     "checksum": "485c89cca92dc31b027b2f88b3994288",
     "grade": false,
     "grade_id": "cell-0aa7e49aefbb5cfe",
     "locked": true,
     "schema_version": 3,
     "solution": false,
     "task": false
    },
    "tags": []
   },
   "source": [
    "### Task 3.2.3\n",
    "In Task 3.1 we could directly use the SVHN data for training our model. This time it might be necessary to apply some pre-processing steps beforehand. Have a look at your data and the model and apply any pre-processing that is necessary. Regardless of which preprocessing you apply, make sure to store the data as `X_train_svhn_pp` and `X_test_svhn_pp`."
   ]
  },
  {
   "cell_type": "code",
   "execution_count": null,
   "id": "89a4d355-203d-4e44-b7b8-f18e742d8b18",
   "metadata": {
    "deletable": false,
    "nbgrader": {
     "cell_type": "code",
     "checksum": "0d8fa3681f610736553aecae86e9dea6",
     "grade": false,
     "grade_id": "cell-e6fd39e7d6405c7e",
     "locked": false,
     "schema_version": 3,
     "solution": true,
     "task": false
    },
    "tags": []
   },
   "outputs": [],
   "source": [
    "# YOUR CODE HERE"
   ]
  },
  {
   "cell_type": "code",
   "execution_count": null,
   "id": "cf536f72-3e10-420a-afe2-aa19301386fa",
   "metadata": {
    "deletable": false,
    "editable": false,
    "nbgrader": {
     "cell_type": "code",
     "checksum": "88c7f6003d2a64af6aec356ffbbccaff",
     "grade": true,
     "grade_id": "cell-50ce9f7ed2ad433c",
     "locked": true,
     "points": 1,
     "schema_version": 3,
     "solution": false,
     "task": false
    },
    "tags": []
   },
   "outputs": [],
   "source": []
  },
  {
   "cell_type": "markdown",
   "id": "affa28ba-c27a-4805-be1d-385439254ab8",
   "metadata": {
    "deletable": false,
    "editable": false,
    "nbgrader": {
     "cell_type": "markdown",
     "checksum": "13c63efa8ad974f7a9017e4cce2968a4",
     "grade": false,
     "grade_id": "cell-a981d1a836840ff4",
     "locked": true,
     "schema_version": 3,
     "solution": false,
     "task": false
    },
    "tags": []
   },
   "source": [
    "### Task 3.2.4\n",
    "Fit the model on `X_train_svhn` and `y_train_svhn` for (max.) 30 epochs. Use a validation split of 0.2 and the early stopping callback `es`. Store the training history in the variable `history_svhn_m`.\n",
    "\n",
    "After training, evaluate the model on the test data `X_test_svhn` and `y_test_svhn`. Store the loss in `test_loss_svhn_m` and the accuracy in `test_acc_svhn_m`.\n",
    "\n",
    "*HINT: The training data might be not suitable for the network, as mnist and svhn deviate in size and channels. Resizing and transforming to grayscale might be necessary.*"
   ]
  },
  {
   "cell_type": "code",
   "execution_count": null,
   "id": "e2a8e464-5d41-405a-ae8e-841fbb1ee62f",
   "metadata": {
    "deletable": false,
    "nbgrader": {
     "cell_type": "code",
     "checksum": "2bd0a2d8f86b38d5115db31042e05d84",
     "grade": false,
     "grade_id": "cell-8104d32119bb775a",
     "locked": false,
     "schema_version": 3,
     "solution": true,
     "task": false
    },
    "tags": []
   },
   "outputs": [],
   "source": [
    "# YOUR CODE HERE\n",
    "\n",
    "fig, ax = plt.subplots(2,2,figsize=(10,8))\n",
    "plot_model_history(history_svhn_m, ax=ax[0,0])\n",
    "plot_model_history(history_svhn_m, metric='accuracy',ax=ax[0,1])\n",
    "plot_cm(y_train_svhn, np.argmax(model_svhn_m.predict(X_train_svhn_pp),axis=1), cmtitle='Train', ax=ax[1,0])\n",
    "plot_cm(y_test_svhn, np.argmax(model_svhn_m.predict(X_test_svhn_pp),axis=1), cmtitle='Test', ax=ax[1,1])\n",
    "fig.tight_layout()"
   ]
  },
  {
   "cell_type": "code",
   "execution_count": null,
   "id": "c9a0344e-4a41-43ed-a89c-6df3e2cb63fd",
   "metadata": {
    "deletable": false,
    "editable": false,
    "nbgrader": {
     "cell_type": "code",
     "checksum": "bbeb6d1b8310a3039d258502334a7090",
     "grade": true,
     "grade_id": "cell-4b1265f0ac93cefe",
     "locked": true,
     "points": 1,
     "schema_version": 3,
     "solution": false,
     "task": false
    },
    "tags": []
   },
   "outputs": [],
   "source": []
  },
  {
   "cell_type": "code",
   "execution_count": null,
   "id": "861422a2-79dc-4130-a92a-549932fdef49",
   "metadata": {
    "deletable": false,
    "editable": false,
    "nbgrader": {
     "cell_type": "code",
     "checksum": "a95613c4614e2a6771de73c9de90136a",
     "grade": true,
     "grade_id": "cell-785f38041fefa039",
     "locked": true,
     "points": 1,
     "schema_version": 3,
     "solution": false,
     "task": false
    },
    "tags": []
   },
   "outputs": [],
   "source": []
  },
  {
   "cell_type": "markdown",
   "id": "0171278e-bf32-4d8f-aaf7-f1f2004daa83",
   "metadata": {
    "deletable": false,
    "editable": false,
    "nbgrader": {
     "cell_type": "markdown",
     "checksum": "bf096c8905abac0e7ef412d468f8348d",
     "grade": false,
     "grade_id": "cell-04cc1ffd7e549f4c",
     "locked": true,
     "schema_version": 3,
     "solution": false,
     "task": false
    },
    "tags": []
   },
   "source": [
    "## 3.3* (Bonus) - From Scratch\n",
    "You are not that happy about the results yet. To see if transfer learning is of any use at all in this case, you decide to train a complete model from scratch on your svhn data.\n"
   ]
  },
  {
   "cell_type": "markdown",
   "id": "7c49cf59-9b35-4568-8fa2-4c8828ddc2bd",
   "metadata": {
    "deletable": false,
    "editable": false,
    "nbgrader": {
     "cell_type": "markdown",
     "checksum": "d3878ec6dcea6f1582c26a1c008b1f3b",
     "grade": false,
     "grade_id": "cell-8f6eccaf74bc9fd4",
     "locked": true,
     "schema_version": 3,
     "solution": false,
     "task": false
    },
    "tags": []
   },
   "source": [
    "### Task 3.3.1* (Bonus)\n",
    "Build a model with the same architecture as befor. Store the base in `base_svhn`, head in `head_svhn` and the full model in `model_svhn`. \n",
    "Finally, compile the model using the _adam_ optimizer, the _SparseCategoricalCrossentropy_ Loss with the parameter _from_logits_ set to True, and accuracy as metric. "
   ]
  },
  {
   "cell_type": "code",
   "execution_count": null,
   "id": "baf1b252-d58c-4be2-b48f-34ad499726da",
   "metadata": {
    "deletable": false,
    "nbgrader": {
     "cell_type": "code",
     "checksum": "35408829c5a88c25abddb65b4b1a0758",
     "grade": false,
     "grade_id": "cell-e358491c098345ee",
     "locked": false,
     "schema_version": 3,
     "solution": true,
     "task": false
    },
    "tags": []
   },
   "outputs": [],
   "source": [
    "# YOUR CODE HERE\n",
    "\n",
    "model_svhn.summary()"
   ]
  },
  {
   "cell_type": "code",
   "execution_count": null,
   "id": "f0fd2718-5c75-46db-a5d6-19bc122df145",
   "metadata": {
    "deletable": false,
    "editable": false,
    "nbgrader": {
     "cell_type": "code",
     "checksum": "b0a1f35a9ae8c9a4e0b69d46e04bd49f",
     "grade": true,
     "grade_id": "cell-3ba8af67d3c11ee5",
     "locked": true,
     "points": 5,
     "schema_version": 3,
     "solution": false,
     "task": false
    },
    "tags": []
   },
   "outputs": [],
   "source": []
  },
  {
   "cell_type": "code",
   "execution_count": null,
   "id": "2bc4516c-2d2a-4e21-bc56-ca577e8f6441",
   "metadata": {
    "deletable": false,
    "editable": false,
    "nbgrader": {
     "cell_type": "code",
     "checksum": "f1a1d6fccf64df20a4d02027121e8d32",
     "grade": true,
     "grade_id": "cell-6f722f3920cd4ce1",
     "locked": true,
     "points": 1,
     "schema_version": 3,
     "solution": false,
     "task": false
    },
    "tags": []
   },
   "outputs": [],
   "source": []
  },
  {
   "cell_type": "markdown",
   "id": "68863647-5368-4095-8105-7001766528ea",
   "metadata": {
    "deletable": false,
    "editable": false,
    "nbgrader": {
     "cell_type": "markdown",
     "checksum": "211f667d45dc72e8224f16d5cbece5a4",
     "grade": false,
     "grade_id": "cell-46b5408945d3004c",
     "locked": true,
     "schema_version": 3,
     "solution": false,
     "task": false
    }
   },
   "source": [
    "### Task 3.3.2* (Bonus)\n",
    "Fit the model on `X_train_svhn` and `y_train_svhn` for 30 epochs. Use a validation split of 0.2 and the early stopping callback `es`. Store the training history in the variable `history_svhn`.\n",
    "\n",
    "After training, evaluate the model on the test data `X_test_svhn` and `y_test_svhn`. Store the loss in `test_loss_svhn` and the accuracy in `test_acc_svhn`."
   ]
  },
  {
   "cell_type": "code",
   "execution_count": null,
   "id": "f621cd68-916d-4745-a10f-f5d4f88f3e4a",
   "metadata": {
    "deletable": false,
    "nbgrader": {
     "cell_type": "code",
     "checksum": "6bab6aa4bda2310445cb1efc806c7708",
     "grade": false,
     "grade_id": "cell-2edd2acef4299f97",
     "locked": false,
     "schema_version": 3,
     "solution": true,
     "task": false
    },
    "tags": []
   },
   "outputs": [],
   "source": [
    "# YOUR CODE HERE\n",
    "\n",
    "fig, ax = plt.subplots(2,2,figsize=(10,8))\n",
    "plot_model_history(history_svhn, ax=ax[0,0])\n",
    "plot_model_history(history_svhn, metric='accuracy',ax=ax[0,1])\n",
    "plot_cm(y_train_svhn, np.argmax(model_svhn.predict(X_train_svhn),axis=1), cmtitle='Train', ax=ax[1,0])\n",
    "plot_cm(y_test_svhn, np.argmax(model_svhn.predict(X_test_svhn),axis=1), cmtitle='Test', ax=ax[1,1])\n",
    "fig.tight_layout()"
   ]
  },
  {
   "cell_type": "code",
   "execution_count": null,
   "id": "aae169d4-3eef-484c-a8ba-20073b1f0451",
   "metadata": {
    "deletable": false,
    "editable": false,
    "nbgrader": {
     "cell_type": "code",
     "checksum": "34e26d33f88ba667ef8774264a8ecaf9",
     "grade": true,
     "grade_id": "cell-8e7b8d9a51605ac6",
     "locked": true,
     "points": 1,
     "schema_version": 3,
     "solution": false,
     "task": false
    },
    "tags": []
   },
   "outputs": [],
   "source": []
  },
  {
   "cell_type": "code",
   "execution_count": null,
   "id": "184daaa5-dfad-4858-a70e-fd9ae7c9c348",
   "metadata": {
    "deletable": false,
    "editable": false,
    "nbgrader": {
     "cell_type": "code",
     "checksum": "08013fb4dd63b56d96f1980c2c44d28f",
     "grade": true,
     "grade_id": "cell-d171351696964468",
     "locked": true,
     "points": 1,
     "schema_version": 3,
     "solution": false,
     "task": false
    },
    "tags": []
   },
   "outputs": [],
   "source": []
  },
  {
   "cell_type": "markdown",
   "id": "ebb250d9-d8d7-4c7e-b4f6-d371b92359d5",
   "metadata": {
    "deletable": false,
    "editable": false,
    "nbgrader": {
     "cell_type": "markdown",
     "checksum": "26fca4a66e593cfb3af77fc652d61bc7",
     "grade": false,
     "grade_id": "cell-85ea160c007b10e2",
     "locked": true,
     "schema_version": 3,
     "solution": false,
     "task": false
    },
    "tags": []
   },
   "source": [
    "### Task 3.4* (Bonus)\n",
    "After tons of hard work labelling house numbers you get a model which is trained from scratch on the whole SVHN training set. Load the pre-trained model `svhn_pretrained.hdf5` and store it in the variable `model_svhn_all`. Evaluate it on the test data `X_test_svhn` and `y_test_svhn`. Store the loss in `test_loss_svhn_all` and the accuracy in `test_acc_svhn_all`."
   ]
  },
  {
   "cell_type": "code",
   "execution_count": null,
   "id": "ac37a153-f518-44d6-8695-0d7e38d3f2fc",
   "metadata": {
    "deletable": false,
    "nbgrader": {
     "cell_type": "code",
     "checksum": "cdef5356184b3ff91e883788afdda2a0",
     "grade": false,
     "grade_id": "cell-187cf804ad1ba8ad",
     "locked": false,
     "schema_version": 3,
     "solution": true,
     "task": false
    },
    "tags": []
   },
   "outputs": [],
   "source": [
    "# YOUR CODE HERE\n",
    "fig, ax = plt.subplots(1,1,figsize=(5,4))\n",
    "plot_cm(y_test_svhn, np.argmax(model_svhn_all.predict(X_test_svhn),axis=1), cmtitle='Test', ax=ax)\n",
    "fig.tight_layout()"
   ]
  },
  {
   "cell_type": "code",
   "execution_count": null,
   "id": "fcfeb1ca-26d1-4eb5-8a29-e0b44dcdc049",
   "metadata": {
    "deletable": false,
    "editable": false,
    "nbgrader": {
     "cell_type": "code",
     "checksum": "e0e792c59cbb49d735be3b0cad8390fe",
     "grade": true,
     "grade_id": "cell-f662776be93f1c76",
     "locked": true,
     "points": 1,
     "schema_version": 3,
     "solution": false,
     "task": false
    },
    "tags": []
   },
   "outputs": [],
   "source": []
  }
 ],
 "metadata": {
  "kernelspec": {
   "display_name": "Python 3 (ipykernel)",
   "language": "python",
   "name": "python3"
  },
  "language_info": {
   "codemirror_mode": {
    "name": "ipython",
    "version": 3
   },
   "file_extension": ".py",
   "mimetype": "text/x-python",
   "name": "python",
   "nbconvert_exporter": "python",
   "pygments_lexer": "ipython3",
   "version": "3.10.11"
  }
 },
 "nbformat": 4,
 "nbformat_minor": 5
}
